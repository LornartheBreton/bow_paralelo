{
  "cells": [
    {
      "cell_type": "markdown",
      "metadata": {
        "id": "I91ZHcL0HNg0"
      },
      "source": [
        "# Librerías "
      ]
    },
    {
      "cell_type": "code",
      "execution_count": 1,
      "metadata": {
        "id": "GXaVJCQoHNg2"
      },
      "outputs": [],
      "source": [
        "import pandas as pd\n",
        "import numpy as np\n",
        "import re\n",
        "import nltk\n",
        "import matplotlib.pyplot as plt"
      ]
    },
    {
      "cell_type": "markdown",
      "metadata": {
        "id": "kZeM22TMHNg2"
      },
      "source": [
        "# Corpus etiquetado"
      ]
    },
    {
      "cell_type": "code",
      "execution_count": 2,
      "metadata": {
        "colab": {
          "base_uri": "https://localhost:8080/",
          "height": 240
        },
        "id": "gLsxgk03HNg2",
        "outputId": "6f770a80-7087-4f90-8f5d-18f31770a875"
      },
      "outputs": [
        {
          "output_type": "error",
          "ename": "FileNotFoundError",
          "evalue": "ignored",
          "traceback": [
            "\u001b[0;31m---------------------------------------------------------------------------\u001b[0m",
            "\u001b[0;31mFileNotFoundError\u001b[0m                         Traceback (most recent call last)",
            "\u001b[0;32m<ipython-input-2-9630e9ced06e>\u001b[0m in \u001b[0;36m<module>\u001b[0;34m\u001b[0m\n\u001b[1;32m      8\u001b[0m \u001b[0;34m\u001b[0m\u001b[0m\n\u001b[1;32m      9\u001b[0m \u001b[0;32mfor\u001b[0m \u001b[0metiqueta\u001b[0m \u001b[0;32min\u001b[0m \u001b[0metiquetas\u001b[0m\u001b[0;34m:\u001b[0m\u001b[0;34m\u001b[0m\u001b[0;34m\u001b[0m\u001b[0m\n\u001b[0;32m---> 10\u001b[0;31m   \u001b[0marchivo\u001b[0m \u001b[0;34m=\u001b[0m \u001b[0mopen\u001b[0m\u001b[0;34m(\u001b[0m\u001b[0metiqueta\u001b[0m \u001b[0;34m+\u001b[0m \u001b[0;34m\".txt\"\u001b[0m\u001b[0;34m,\u001b[0m \u001b[0;34m\"r\"\u001b[0m\u001b[0;34m)\u001b[0m\u001b[0;34m\u001b[0m\u001b[0;34m\u001b[0m\u001b[0m\n\u001b[0m\u001b[1;32m     11\u001b[0m   \u001b[0mcorpus\u001b[0m\u001b[0;34m.\u001b[0m\u001b[0mappend\u001b[0m\u001b[0;34m(\u001b[0m\u001b[0marchivo\u001b[0m\u001b[0;34m.\u001b[0m\u001b[0mread\u001b[0m\u001b[0;34m(\u001b[0m\u001b[0;34m)\u001b[0m\u001b[0;34m)\u001b[0m\u001b[0;34m\u001b[0m\u001b[0;34m\u001b[0m\u001b[0m\n\u001b[1;32m     12\u001b[0m   \u001b[0marchivo\u001b[0m\u001b[0;34m.\u001b[0m\u001b[0mclose\u001b[0m\u001b[0;34m(\u001b[0m\u001b[0;34m)\u001b[0m\u001b[0;34m\u001b[0m\u001b[0;34m\u001b[0m\u001b[0m\n",
            "\u001b[0;31mFileNotFoundError\u001b[0m: [Errno 2] No such file or directory: 'shakespeare_the_merchant_of_venice.txt'"
          ]
        }
      ],
      "source": [
        "etiquetas = [\"shakespeare_the_merchant_of_venice\", \n",
        "             \"shakespeare_romeo_juliet\", \n",
        "             \"shakespeare_hamlet\", \n",
        "             \"dickens_a_christmas_carol\", \n",
        "             \"dickens_oliver_twist\",\n",
        "             \"dickens_a_tale_of_two_cities\"]\n",
        "corpus = []\n",
        "\n",
        "for etiqueta in etiquetas:\n",
        "  archivo = open(etiqueta + \".txt\", \"r\")\n",
        "  corpus.append(archivo.read())\n",
        "  archivo.close()\n",
        "\n",
        "etiquetas = [\"shakespeare_the_merchant_of_venice\", \n",
        "             \"shakespeare_romeo_juliet\", \n",
        "             \"shakespeare_hamlet\", \n",
        "             \"dickens_a_christmas_carol\", \n",
        "             \"dickens_oliver_twist\",\n",
        "             \"dickens_a_tale_of_two_cities\"]\n",
        "\n",
        "corpus = np.array(corpus)\n",
        "df_corpus = pd.DataFrame({\"documento\": corpus, \n",
        "                          \"categoria\": etiquetas})\n",
        "df_corpus"
      ]
    },
    {
      "cell_type": "markdown",
      "metadata": {
        "id": "Oc39WakxHNg4"
      },
      "source": [
        "# Modelo de Bolsa de Palabras"
      ]
    },
    {
      "cell_type": "code",
      "execution_count": null,
      "metadata": {
        "id": "rPXPWGO3HNg4",
        "outputId": "4afd8723-006e-47a9-8a30-b54ca6e3a5bd",
        "colab": {
          "base_uri": "https://localhost:8080/"
        }
      },
      "outputs": [
        {
          "output_type": "execute_result",
          "data": {
            "text/plain": [
              "<6x15164 sparse matrix of type '<class 'numpy.int64'>'\n",
              "\twith 30424 stored elements in Compressed Sparse Row format>"
            ]
          },
          "metadata": {},
          "execution_count": 3
        }
      ],
      "source": [
        "from sklearn.feature_extraction.text import CountVectorizer\n",
        "# bolsa de palabras en matriz dispersa\n",
        "count_vectorizer = CountVectorizer(min_df=0.0, max_df=1.0)\n",
        "matriz_conteo = count_vectorizer.fit_transform(corpus)\n",
        "matriz_conteo"
      ]
    },
    {
      "cell_type": "code",
      "execution_count": null,
      "metadata": {
        "id": "rrn5A4sVHNg4",
        "outputId": "a80c6a1b-131b-4c3f-f5e2-75b707dbfa11",
        "colab": {
          "base_uri": "https://localhost:8080/"
        }
      },
      "outputs": [
        {
          "output_type": "stream",
          "name": "stdout",
          "text": [
            "  (0, 10315)\t90\n",
            "  (0, 6108)\t99\n",
            "  (0, 4317)\t20\n",
            "  (0, 8386)\t20\n",
            "  (0, 14294)\t45\n",
            "  (0, 14871)\t4\n",
            "  (0, 11781)\t5\n",
            "  (0, 1652)\t8\n",
            "  (0, 8214)\t17\n",
            "  (0, 11189)\t18\n",
            "  (0, 59)\t2\n",
            "  (0, 7745)\t36\n",
            "  (0, 13227)\t12\n",
            "  (0, 567)\t5\n",
            "  (0, 7486)\t1\n",
            "  (0, 1783)\t11\n",
            "  (0, 9390)\t5\n",
            "  (0, 1065)\t1\n",
            "  (0, 4611)\t1\n",
            "  (0, 6611)\t1\n",
            "  (0, 14849)\t1\n",
            "  (0, 183)\t1\n",
            "  (0, 13475)\t8\n",
            "  (0, 85)\t7\n",
            "  (0, 1710)\t6\n",
            "  :\t:\n",
            "  (5, 8286)\t1\n",
            "  (5, 10631)\t1\n",
            "  (5, 4475)\t1\n",
            "  (5, 5110)\t1\n",
            "  (5, 7418)\t1\n",
            "  (5, 2381)\t1\n",
            "  (5, 8105)\t1\n",
            "  (5, 829)\t1\n",
            "  (5, 2223)\t1\n",
            "  (5, 3206)\t1\n",
            "  (5, 3277)\t1\n",
            "  (5, 1047)\t1\n",
            "  (5, 4837)\t1\n",
            "  (5, 6348)\t1\n",
            "  (5, 244)\t2\n",
            "  (5, 11380)\t1\n",
            "  (5, 9754)\t1\n",
            "  (5, 14795)\t1\n",
            "  (5, 13303)\t1\n",
            "  (5, 13858)\t1\n",
            "  (5, 8390)\t1\n",
            "  (5, 11826)\t1\n",
            "  (5, 9584)\t1\n",
            "  (5, 4822)\t1\n",
            "  (5, 696)\t1\n"
          ]
        }
      ],
      "source": [
        "# ver valores diferentes de cero en la matriz dispersa\n",
        "print(matriz_conteo)"
      ]
    },
    {
      "cell_type": "code",
      "execution_count": null,
      "metadata": {
        "id": "OzmdRBZ_HNg5",
        "outputId": "80064a73-ed24-4b32-a48e-6ff0400ffeac",
        "colab": {
          "base_uri": "https://localhost:8080/"
        }
      },
      "outputs": [
        {
          "output_type": "execute_result",
          "data": {
            "text/plain": [
              "array([[1, 0, 0, ..., 0, 0, 0],\n",
              "       [3, 0, 0, ..., 1, 0, 2],\n",
              "       [3, 0, 1, ..., 2, 1, 0],\n",
              "       [1, 1, 0, ..., 1, 0, 0],\n",
              "       [1, 0, 0, ..., 0, 0, 0],\n",
              "       [1, 0, 0, ..., 1, 0, 0]])"
            ]
          },
          "metadata": {},
          "execution_count": 5
        }
      ],
      "source": [
        "# ver la representación densa\n",
        "matriz_conteo = matriz_conteo.toarray()\n",
        "matriz_conteo"
      ]
    },
    {
      "cell_type": "code",
      "execution_count": null,
      "metadata": {
        "id": "_tyv80qCHNg5",
        "outputId": "c49a338c-4a4d-4683-86c2-c0cff675ccb3",
        "colab": {
          "base_uri": "https://localhost:8080/",
          "height": 331
        }
      },
      "outputs": [
        {
          "output_type": "execute_result",
          "data": {
            "text/plain": [
              "   000  00033  04  08  0em  10  100  101  102  103  ...  yourn  youth  \\\n",
              "0    1      0   0   0    2   0    0    0    0    0  ...      0      8   \n",
              "1    3      0   0   1    0   2    1    0    0    0  ...      0      6   \n",
              "2    3      0   1   0    0   2    3    0    0    0  ...      0     14   \n",
              "3    1      1   0   0    0   2    2    1    1    1  ...      0      1   \n",
              "4    1      0   0   0    2   0    0    0    0    0  ...      0      9   \n",
              "5    1      0   0   0    0   2    0    0    0    0  ...      1     10   \n",
              "\n",
              "   youthful  youthfulness  zeal  zealous  zenith  zip  zone  zounds  \n",
              "0         1             0     1        0       0    0     0       0  \n",
              "1         3             0     0        0       0    1     0       2  \n",
              "2         0             0     0        0       0    2     1       0  \n",
              "3         0             0     1        0       0    1     0       0  \n",
              "4         6             0     0        2       1    0     0       0  \n",
              "5         3             1     0        2       0    1     0       0  \n",
              "\n",
              "[6 rows x 15164 columns]"
            ],
            "text/html": [
              "\n",
              "  <div id=\"df-a51563d7-66a3-4069-8262-908eb3240419\">\n",
              "    <div class=\"colab-df-container\">\n",
              "      <div>\n",
              "<style scoped>\n",
              "    .dataframe tbody tr th:only-of-type {\n",
              "        vertical-align: middle;\n",
              "    }\n",
              "\n",
              "    .dataframe tbody tr th {\n",
              "        vertical-align: top;\n",
              "    }\n",
              "\n",
              "    .dataframe thead th {\n",
              "        text-align: right;\n",
              "    }\n",
              "</style>\n",
              "<table border=\"1\" class=\"dataframe\">\n",
              "  <thead>\n",
              "    <tr style=\"text-align: right;\">\n",
              "      <th></th>\n",
              "      <th>000</th>\n",
              "      <th>00033</th>\n",
              "      <th>04</th>\n",
              "      <th>08</th>\n",
              "      <th>0em</th>\n",
              "      <th>10</th>\n",
              "      <th>100</th>\n",
              "      <th>101</th>\n",
              "      <th>102</th>\n",
              "      <th>103</th>\n",
              "      <th>...</th>\n",
              "      <th>yourn</th>\n",
              "      <th>youth</th>\n",
              "      <th>youthful</th>\n",
              "      <th>youthfulness</th>\n",
              "      <th>zeal</th>\n",
              "      <th>zealous</th>\n",
              "      <th>zenith</th>\n",
              "      <th>zip</th>\n",
              "      <th>zone</th>\n",
              "      <th>zounds</th>\n",
              "    </tr>\n",
              "  </thead>\n",
              "  <tbody>\n",
              "    <tr>\n",
              "      <th>0</th>\n",
              "      <td>1</td>\n",
              "      <td>0</td>\n",
              "      <td>0</td>\n",
              "      <td>0</td>\n",
              "      <td>2</td>\n",
              "      <td>0</td>\n",
              "      <td>0</td>\n",
              "      <td>0</td>\n",
              "      <td>0</td>\n",
              "      <td>0</td>\n",
              "      <td>...</td>\n",
              "      <td>0</td>\n",
              "      <td>8</td>\n",
              "      <td>1</td>\n",
              "      <td>0</td>\n",
              "      <td>1</td>\n",
              "      <td>0</td>\n",
              "      <td>0</td>\n",
              "      <td>0</td>\n",
              "      <td>0</td>\n",
              "      <td>0</td>\n",
              "    </tr>\n",
              "    <tr>\n",
              "      <th>1</th>\n",
              "      <td>3</td>\n",
              "      <td>0</td>\n",
              "      <td>0</td>\n",
              "      <td>1</td>\n",
              "      <td>0</td>\n",
              "      <td>2</td>\n",
              "      <td>1</td>\n",
              "      <td>0</td>\n",
              "      <td>0</td>\n",
              "      <td>0</td>\n",
              "      <td>...</td>\n",
              "      <td>0</td>\n",
              "      <td>6</td>\n",
              "      <td>3</td>\n",
              "      <td>0</td>\n",
              "      <td>0</td>\n",
              "      <td>0</td>\n",
              "      <td>0</td>\n",
              "      <td>1</td>\n",
              "      <td>0</td>\n",
              "      <td>2</td>\n",
              "    </tr>\n",
              "    <tr>\n",
              "      <th>2</th>\n",
              "      <td>3</td>\n",
              "      <td>0</td>\n",
              "      <td>1</td>\n",
              "      <td>0</td>\n",
              "      <td>0</td>\n",
              "      <td>2</td>\n",
              "      <td>3</td>\n",
              "      <td>0</td>\n",
              "      <td>0</td>\n",
              "      <td>0</td>\n",
              "      <td>...</td>\n",
              "      <td>0</td>\n",
              "      <td>14</td>\n",
              "      <td>0</td>\n",
              "      <td>0</td>\n",
              "      <td>0</td>\n",
              "      <td>0</td>\n",
              "      <td>0</td>\n",
              "      <td>2</td>\n",
              "      <td>1</td>\n",
              "      <td>0</td>\n",
              "    </tr>\n",
              "    <tr>\n",
              "      <th>3</th>\n",
              "      <td>1</td>\n",
              "      <td>1</td>\n",
              "      <td>0</td>\n",
              "      <td>0</td>\n",
              "      <td>0</td>\n",
              "      <td>2</td>\n",
              "      <td>2</td>\n",
              "      <td>1</td>\n",
              "      <td>1</td>\n",
              "      <td>1</td>\n",
              "      <td>...</td>\n",
              "      <td>0</td>\n",
              "      <td>1</td>\n",
              "      <td>0</td>\n",
              "      <td>0</td>\n",
              "      <td>1</td>\n",
              "      <td>0</td>\n",
              "      <td>0</td>\n",
              "      <td>1</td>\n",
              "      <td>0</td>\n",
              "      <td>0</td>\n",
              "    </tr>\n",
              "    <tr>\n",
              "      <th>4</th>\n",
              "      <td>1</td>\n",
              "      <td>0</td>\n",
              "      <td>0</td>\n",
              "      <td>0</td>\n",
              "      <td>2</td>\n",
              "      <td>0</td>\n",
              "      <td>0</td>\n",
              "      <td>0</td>\n",
              "      <td>0</td>\n",
              "      <td>0</td>\n",
              "      <td>...</td>\n",
              "      <td>0</td>\n",
              "      <td>9</td>\n",
              "      <td>6</td>\n",
              "      <td>0</td>\n",
              "      <td>0</td>\n",
              "      <td>2</td>\n",
              "      <td>1</td>\n",
              "      <td>0</td>\n",
              "      <td>0</td>\n",
              "      <td>0</td>\n",
              "    </tr>\n",
              "    <tr>\n",
              "      <th>5</th>\n",
              "      <td>1</td>\n",
              "      <td>0</td>\n",
              "      <td>0</td>\n",
              "      <td>0</td>\n",
              "      <td>0</td>\n",
              "      <td>2</td>\n",
              "      <td>0</td>\n",
              "      <td>0</td>\n",
              "      <td>0</td>\n",
              "      <td>0</td>\n",
              "      <td>...</td>\n",
              "      <td>1</td>\n",
              "      <td>10</td>\n",
              "      <td>3</td>\n",
              "      <td>1</td>\n",
              "      <td>0</td>\n",
              "      <td>2</td>\n",
              "      <td>0</td>\n",
              "      <td>1</td>\n",
              "      <td>0</td>\n",
              "      <td>0</td>\n",
              "    </tr>\n",
              "  </tbody>\n",
              "</table>\n",
              "<p>6 rows × 15164 columns</p>\n",
              "</div>\n",
              "      <button class=\"colab-df-convert\" onclick=\"convertToInteractive('df-a51563d7-66a3-4069-8262-908eb3240419')\"\n",
              "              title=\"Convert this dataframe to an interactive table.\"\n",
              "              style=\"display:none;\">\n",
              "        \n",
              "  <svg xmlns=\"http://www.w3.org/2000/svg\" height=\"24px\"viewBox=\"0 0 24 24\"\n",
              "       width=\"24px\">\n",
              "    <path d=\"M0 0h24v24H0V0z\" fill=\"none\"/>\n",
              "    <path d=\"M18.56 5.44l.94 2.06.94-2.06 2.06-.94-2.06-.94-.94-2.06-.94 2.06-2.06.94zm-11 1L8.5 8.5l.94-2.06 2.06-.94-2.06-.94L8.5 2.5l-.94 2.06-2.06.94zm10 10l.94 2.06.94-2.06 2.06-.94-2.06-.94-.94-2.06-.94 2.06-2.06.94z\"/><path d=\"M17.41 7.96l-1.37-1.37c-.4-.4-.92-.59-1.43-.59-.52 0-1.04.2-1.43.59L10.3 9.45l-7.72 7.72c-.78.78-.78 2.05 0 2.83L4 21.41c.39.39.9.59 1.41.59.51 0 1.02-.2 1.41-.59l7.78-7.78 2.81-2.81c.8-.78.8-2.07 0-2.86zM5.41 20L4 18.59l7.72-7.72 1.47 1.35L5.41 20z\"/>\n",
              "  </svg>\n",
              "      </button>\n",
              "      \n",
              "  <style>\n",
              "    .colab-df-container {\n",
              "      display:flex;\n",
              "      flex-wrap:wrap;\n",
              "      gap: 12px;\n",
              "    }\n",
              "\n",
              "    .colab-df-convert {\n",
              "      background-color: #E8F0FE;\n",
              "      border: none;\n",
              "      border-radius: 50%;\n",
              "      cursor: pointer;\n",
              "      display: none;\n",
              "      fill: #1967D2;\n",
              "      height: 32px;\n",
              "      padding: 0 0 0 0;\n",
              "      width: 32px;\n",
              "    }\n",
              "\n",
              "    .colab-df-convert:hover {\n",
              "      background-color: #E2EBFA;\n",
              "      box-shadow: 0px 1px 2px rgba(60, 64, 67, 0.3), 0px 1px 3px 1px rgba(60, 64, 67, 0.15);\n",
              "      fill: #174EA6;\n",
              "    }\n",
              "\n",
              "    [theme=dark] .colab-df-convert {\n",
              "      background-color: #3B4455;\n",
              "      fill: #D2E3FC;\n",
              "    }\n",
              "\n",
              "    [theme=dark] .colab-df-convert:hover {\n",
              "      background-color: #434B5C;\n",
              "      box-shadow: 0px 1px 3px 1px rgba(0, 0, 0, 0.15);\n",
              "      filter: drop-shadow(0px 1px 2px rgba(0, 0, 0, 0.3));\n",
              "      fill: #FFFFFF;\n",
              "    }\n",
              "  </style>\n",
              "\n",
              "      <script>\n",
              "        const buttonEl =\n",
              "          document.querySelector('#df-a51563d7-66a3-4069-8262-908eb3240419 button.colab-df-convert');\n",
              "        buttonEl.style.display =\n",
              "          google.colab.kernel.accessAllowed ? 'block' : 'none';\n",
              "\n",
              "        async function convertToInteractive(key) {\n",
              "          const element = document.querySelector('#df-a51563d7-66a3-4069-8262-908eb3240419');\n",
              "          const dataTable =\n",
              "            await google.colab.kernel.invokeFunction('convertToInteractive',\n",
              "                                                     [key], {});\n",
              "          if (!dataTable) return;\n",
              "\n",
              "          const docLinkHtml = 'Like what you see? Visit the ' +\n",
              "            '<a target=\"_blank\" href=https://colab.research.google.com/notebooks/data_table.ipynb>data table notebook</a>'\n",
              "            + ' to learn more about interactive tables.';\n",
              "          element.innerHTML = '';\n",
              "          dataTable['output_type'] = 'display_data';\n",
              "          await google.colab.output.renderOutput(dataTable, element);\n",
              "          const docLink = document.createElement('div');\n",
              "          docLink.innerHTML = docLinkHtml;\n",
              "          element.appendChild(docLink);\n",
              "        }\n",
              "      </script>\n",
              "    </div>\n",
              "  </div>\n",
              "  "
            ]
          },
          "metadata": {},
          "execution_count": 6
        }
      ],
      "source": [
        "# obten todas las palabras únicas del corpus\n",
        "vocabulario = count_vectorizer.get_feature_names_out()\n",
        "# muestra los vectores de características del documento\n",
        "pd.DataFrame(matriz_conteo, columns=vocabulario)"
      ]
    },
    {
      "cell_type": "markdown",
      "source": [
        "#Vocabulario (número de columnas de la matriz)"
      ],
      "metadata": {
        "id": "XUSYpkbLwUIl"
      }
    },
    {
      "cell_type": "code",
      "source": [
        "print(len(vocabulario), vocabulario)"
      ],
      "metadata": {
        "colab": {
          "base_uri": "https://localhost:8080/"
        },
        "id": "7yhoSszswSoP",
        "outputId": "8a05ee38-8ecb-40b7-c2ed-30185b1e7060"
      },
      "execution_count": null,
      "outputs": [
        {
          "output_type": "stream",
          "name": "stdout",
          "text": [
            "15164 ['000' '00033' '04' ... 'zip' 'zone' 'zounds']\n"
          ]
        }
      ]
    }
  ],
  "metadata": {
    "anaconda-cloud": {},
    "kernelspec": {
      "display_name": "Python 3 (ipykernel)",
      "language": "python",
      "name": "python3"
    },
    "language_info": {
      "codemirror_mode": {
        "name": "ipython",
        "version": 3
      },
      "file_extension": ".py",
      "mimetype": "text/x-python",
      "name": "python",
      "nbconvert_exporter": "python",
      "pygments_lexer": "ipython3",
      "version": "3.9.7"
    },
    "colab": {
      "provenance": []
    }
  },
  "nbformat": 4,
  "nbformat_minor": 0
}