{
 "cells": [
  {
   "cell_type": "markdown",
   "metadata": {
    "id": "I91ZHcL0HNg0"
   },
   "source": [
    "# Librerías "
   ]
  },
  {
   "cell_type": "code",
   "execution_count": 14,
   "metadata": {
    "id": "GXaVJCQoHNg2"
   },
   "outputs": [],
   "source": [
    "import pandas as pd\n",
    "import numpy as np\n",
    "import re\n",
    "import nltk\n",
    "import matplotlib.pyplot as plt\n",
    "import pickle"
   ]
  },
  {
   "cell_type": "markdown",
   "metadata": {
    "id": "kZeM22TMHNg2"
   },
   "source": [
    "# Corpus etiquetado"
   ]
  },
  {
   "cell_type": "code",
   "execution_count": 4,
   "metadata": {
    "colab": {
     "base_uri": "https://localhost:8080/",
     "height": 240
    },
    "id": "gLsxgk03HNg2",
    "outputId": "6f770a80-7087-4f90-8f5d-18f31770a875"
   },
   "outputs": [
    {
     "data": {
      "text/html": [
       "<div>\n",
       "<style scoped>\n",
       "    .dataframe tbody tr th:only-of-type {\n",
       "        vertical-align: middle;\n",
       "    }\n",
       "\n",
       "    .dataframe tbody tr th {\n",
       "        vertical-align: top;\n",
       "    }\n",
       "\n",
       "    .dataframe thead th {\n",
       "        text-align: right;\n",
       "    }\n",
       "</style>\n",
       "<table border=\"1\" class=\"dataframe\">\n",
       "  <thead>\n",
       "    <tr style=\"text-align: right;\">\n",
       "      <th></th>\n",
       "      <th>documento</th>\n",
       "      <th>categoria</th>\n",
       "    </tr>\n",
       "  </thead>\n",
       "  <tbody>\n",
       "    <tr>\n",
       "      <th>0</th>\n",
       "      <td>project,gutenberg,ebook,merchant,venice,willia...</td>\n",
       "      <td>shakespeare_the_merchant_of_venice</td>\n",
       "    </tr>\n",
       "    <tr>\n",
       "      <th>1</th>\n",
       "      <td>project,gutenberg,ebook,romeo,juliet,william,s...</td>\n",
       "      <td>shakespeare_romeo_juliet</td>\n",
       "    </tr>\n",
       "    <tr>\n",
       "      <th>2</th>\n",
       "      <td>project,gutenberg,ebook,hamlet,william,shakesp...</td>\n",
       "      <td>shakespeare_hamlet</td>\n",
       "    </tr>\n",
       "    <tr>\n",
       "      <th>3</th>\n",
       "      <td>project,gutenberg,ebook,christmas,carol,charle...</td>\n",
       "      <td>dickens_a_christmas_carol</td>\n",
       "    </tr>\n",
       "    <tr>\n",
       "      <th>4</th>\n",
       "      <td>project,gutenberg,ebook,oliver,twist,charles,d...</td>\n",
       "      <td>dickens_oliver_twist</td>\n",
       "    </tr>\n",
       "    <tr>\n",
       "      <th>5</th>\n",
       "      <td>project,gutenberg,ebook,tale,two,city,charles,...</td>\n",
       "      <td>dickens_a_tale_of_two_cities</td>\n",
       "    </tr>\n",
       "  </tbody>\n",
       "</table>\n",
       "</div>"
      ],
      "text/plain": [
       "                                           documento  \\\n",
       "0  project,gutenberg,ebook,merchant,venice,willia...   \n",
       "1  project,gutenberg,ebook,romeo,juliet,william,s...   \n",
       "2  project,gutenberg,ebook,hamlet,william,shakesp...   \n",
       "3  project,gutenberg,ebook,christmas,carol,charle...   \n",
       "4  project,gutenberg,ebook,oliver,twist,charles,d...   \n",
       "5  project,gutenberg,ebook,tale,two,city,charles,...   \n",
       "\n",
       "                            categoria  \n",
       "0  shakespeare_the_merchant_of_venice  \n",
       "1            shakespeare_romeo_juliet  \n",
       "2                  shakespeare_hamlet  \n",
       "3           dickens_a_christmas_carol  \n",
       "4                dickens_oliver_twist  \n",
       "5        dickens_a_tale_of_two_cities  "
      ]
     },
     "execution_count": 4,
     "metadata": {},
     "output_type": "execute_result"
    }
   ],
   "source": [
    "etiquetas = [\"shakespeare_the_merchant_of_venice\", \n",
    "             \"shakespeare_romeo_juliet\", \n",
    "             \"shakespeare_hamlet\", \n",
    "             \"dickens_a_christmas_carol\", \n",
    "             \"dickens_oliver_twist\",\n",
    "             \"dickens_a_tale_of_two_cities\"]\n",
    "corpus = []\n",
    "\n",
    "for etiqueta in etiquetas:\n",
    "  archivo = open(etiqueta + \".txt\", \"r\")\n",
    "  corpus.append(archivo.read())\n",
    "  archivo.close()\n",
    "\n",
    "etiquetas = [\"shakespeare_the_merchant_of_venice\", \n",
    "             \"shakespeare_romeo_juliet\", \n",
    "             \"shakespeare_hamlet\", \n",
    "             \"dickens_a_christmas_carol\", \n",
    "             \"dickens_oliver_twist\",\n",
    "             \"dickens_a_tale_of_two_cities\"]\n",
    "\n",
    "corpus = np.array(corpus)\n",
    "df_corpus = pd.DataFrame({\"documento\": corpus, \n",
    "                          \"categoria\": etiquetas})\n",
    "df_corpus"
   ]
  },
  {
   "cell_type": "markdown",
   "metadata": {
    "id": "Oc39WakxHNg4"
   },
   "source": [
    "# Modelo de Bolsa de Palabras"
   ]
  },
  {
   "cell_type": "code",
   "execution_count": 5,
   "metadata": {
    "colab": {
     "base_uri": "https://localhost:8080/"
    },
    "id": "rPXPWGO3HNg4",
    "outputId": "4afd8723-006e-47a9-8a30-b54ca6e3a5bd"
   },
   "outputs": [
    {
     "data": {
      "text/plain": [
       "<6x15164 sparse matrix of type '<class 'numpy.int64'>'\n",
       "\twith 30424 stored elements in Compressed Sparse Row format>"
      ]
     },
     "execution_count": 5,
     "metadata": {},
     "output_type": "execute_result"
    }
   ],
   "source": [
    "from sklearn.feature_extraction.text import CountVectorizer\n",
    "# bolsa de palabras en matriz dispersa\n",
    "count_vectorizer = CountVectorizer(min_df=0.0, max_df=1.0)\n",
    "matriz_conteo = count_vectorizer.fit_transform(corpus)\n",
    "matriz_conteo"
   ]
  },
  {
   "cell_type": "code",
   "execution_count": 6,
   "metadata": {
    "colab": {
     "base_uri": "https://localhost:8080/"
    },
    "id": "rrn5A4sVHNg4",
    "outputId": "a80c6a1b-131b-4c3f-f5e2-75b707dbfa11"
   },
   "outputs": [
    {
     "name": "stdout",
     "output_type": "stream",
     "text": [
      "  (0, 10315)\t90\n",
      "  (0, 6108)\t99\n",
      "  (0, 4317)\t20\n",
      "  (0, 8386)\t20\n",
      "  (0, 14294)\t45\n",
      "  (0, 14871)\t4\n",
      "  (0, 11781)\t5\n",
      "  (0, 1652)\t8\n",
      "  (0, 8214)\t17\n",
      "  (0, 11189)\t18\n",
      "  (0, 59)\t2\n",
      "  (0, 7745)\t36\n",
      "  (0, 13227)\t12\n",
      "  (0, 567)\t5\n",
      "  (0, 7486)\t1\n",
      "  (0, 1783)\t11\n",
      "  (0, 9390)\t5\n",
      "  (0, 1065)\t1\n",
      "  (0, 4611)\t1\n",
      "  (0, 6611)\t1\n",
      "  (0, 14849)\t1\n",
      "  (0, 183)\t1\n",
      "  (0, 13475)\t8\n",
      "  (0, 85)\t7\n",
      "  (0, 1710)\t6\n",
      "  :\t:\n",
      "  (5, 8286)\t1\n",
      "  (5, 10631)\t1\n",
      "  (5, 4475)\t1\n",
      "  (5, 5110)\t1\n",
      "  (5, 7418)\t1\n",
      "  (5, 2381)\t1\n",
      "  (5, 8105)\t1\n",
      "  (5, 829)\t1\n",
      "  (5, 2223)\t1\n",
      "  (5, 3206)\t1\n",
      "  (5, 3277)\t1\n",
      "  (5, 1047)\t1\n",
      "  (5, 4837)\t1\n",
      "  (5, 6348)\t1\n",
      "  (5, 244)\t2\n",
      "  (5, 11380)\t1\n",
      "  (5, 9754)\t1\n",
      "  (5, 14795)\t1\n",
      "  (5, 13303)\t1\n",
      "  (5, 13858)\t1\n",
      "  (5, 8390)\t1\n",
      "  (5, 11826)\t1\n",
      "  (5, 9584)\t1\n",
      "  (5, 4822)\t1\n",
      "  (5, 696)\t1\n"
     ]
    }
   ],
   "source": [
    "# ver valores diferentes de cero en la matriz dispersa\n",
    "print(matriz_conteo)"
   ]
  },
  {
   "cell_type": "code",
   "execution_count": null,
   "metadata": {
    "colab": {
     "base_uri": "https://localhost:8080/"
    },
    "id": "OzmdRBZ_HNg5",
    "outputId": "80064a73-ed24-4b32-a48e-6ff0400ffeac"
   },
   "outputs": [
    {
     "data": {
      "text/plain": [
       "array([[1, 0, 0, ..., 0, 0, 0],\n",
       "       [3, 0, 0, ..., 1, 0, 2],\n",
       "       [3, 0, 1, ..., 2, 1, 0],\n",
       "       [1, 1, 0, ..., 1, 0, 0],\n",
       "       [1, 0, 0, ..., 0, 0, 0],\n",
       "       [1, 0, 0, ..., 1, 0, 0]])"
      ]
     },
     "execution_count": 5,
     "metadata": {},
     "output_type": "execute_result"
    }
   ],
   "source": [
    "# ver la representación densa\n",
    "matriz_conteo = matriz_conteo.toarray()\n",
    "matriz_conteo"
   ]
  },
  {
   "cell_type": "code",
   "execution_count": 7,
   "metadata": {
    "colab": {
     "base_uri": "https://localhost:8080/",
     "height": 331
    },
    "id": "_tyv80qCHNg5",
    "outputId": "c49a338c-4a4d-4683-86c2-c0cff675ccb3"
   },
   "outputs": [
    {
     "ename": "ValueError",
     "evalue": "Shape of passed values is (6, 1), indices imply (6, 15164)",
     "output_type": "error",
     "traceback": [
      "\u001b[0;31m---------------------------------------------------------------------------\u001b[0m",
      "\u001b[0;31mValueError\u001b[0m                                Traceback (most recent call last)",
      "Input \u001b[0;32mIn [7]\u001b[0m, in \u001b[0;36m<cell line: 4>\u001b[0;34m()\u001b[0m\n\u001b[1;32m      2\u001b[0m vocabulario \u001b[38;5;241m=\u001b[39m count_vectorizer\u001b[38;5;241m.\u001b[39mget_feature_names_out()\n\u001b[1;32m      3\u001b[0m \u001b[38;5;66;03m# muestra los vectores de características del documento\u001b[39;00m\n\u001b[0;32m----> 4\u001b[0m \u001b[43mpd\u001b[49m\u001b[38;5;241;43m.\u001b[39;49m\u001b[43mDataFrame\u001b[49m\u001b[43m(\u001b[49m\u001b[43mmatriz_conteo\u001b[49m\u001b[43m,\u001b[49m\u001b[43m \u001b[49m\u001b[43mcolumns\u001b[49m\u001b[38;5;241;43m=\u001b[39;49m\u001b[43mvocabulario\u001b[49m\u001b[43m)\u001b[49m\n",
      "File \u001b[0;32m~/opt/anaconda3/lib/python3.9/site-packages/pandas/core/frame.py:737\u001b[0m, in \u001b[0;36mDataFrame.__init__\u001b[0;34m(self, data, index, columns, dtype, copy)\u001b[0m\n\u001b[1;32m    729\u001b[0m         mgr \u001b[38;5;241m=\u001b[39m arrays_to_mgr(\n\u001b[1;32m    730\u001b[0m             arrays,\n\u001b[1;32m    731\u001b[0m             columns,\n\u001b[0;32m   (...)\u001b[0m\n\u001b[1;32m    734\u001b[0m             typ\u001b[38;5;241m=\u001b[39mmanager,\n\u001b[1;32m    735\u001b[0m         )\n\u001b[1;32m    736\u001b[0m     \u001b[38;5;28;01melse\u001b[39;00m:\n\u001b[0;32m--> 737\u001b[0m         mgr \u001b[38;5;241m=\u001b[39m \u001b[43mndarray_to_mgr\u001b[49m\u001b[43m(\u001b[49m\n\u001b[1;32m    738\u001b[0m \u001b[43m            \u001b[49m\u001b[43mdata\u001b[49m\u001b[43m,\u001b[49m\n\u001b[1;32m    739\u001b[0m \u001b[43m            \u001b[49m\u001b[43mindex\u001b[49m\u001b[43m,\u001b[49m\n\u001b[1;32m    740\u001b[0m \u001b[43m            \u001b[49m\u001b[43mcolumns\u001b[49m\u001b[43m,\u001b[49m\n\u001b[1;32m    741\u001b[0m \u001b[43m            \u001b[49m\u001b[43mdtype\u001b[49m\u001b[38;5;241;43m=\u001b[39;49m\u001b[43mdtype\u001b[49m\u001b[43m,\u001b[49m\n\u001b[1;32m    742\u001b[0m \u001b[43m            \u001b[49m\u001b[43mcopy\u001b[49m\u001b[38;5;241;43m=\u001b[39;49m\u001b[43mcopy\u001b[49m\u001b[43m,\u001b[49m\n\u001b[1;32m    743\u001b[0m \u001b[43m            \u001b[49m\u001b[43mtyp\u001b[49m\u001b[38;5;241;43m=\u001b[39;49m\u001b[43mmanager\u001b[49m\u001b[43m,\u001b[49m\n\u001b[1;32m    744\u001b[0m \u001b[43m        \u001b[49m\u001b[43m)\u001b[49m\n\u001b[1;32m    745\u001b[0m \u001b[38;5;28;01melse\u001b[39;00m:\n\u001b[1;32m    746\u001b[0m     mgr \u001b[38;5;241m=\u001b[39m dict_to_mgr(\n\u001b[1;32m    747\u001b[0m         {},\n\u001b[1;32m    748\u001b[0m         index,\n\u001b[0;32m   (...)\u001b[0m\n\u001b[1;32m    751\u001b[0m         typ\u001b[38;5;241m=\u001b[39mmanager,\n\u001b[1;32m    752\u001b[0m     )\n",
      "File \u001b[0;32m~/opt/anaconda3/lib/python3.9/site-packages/pandas/core/internals/construction.py:351\u001b[0m, in \u001b[0;36mndarray_to_mgr\u001b[0;34m(values, index, columns, dtype, copy, typ)\u001b[0m\n\u001b[1;32m    346\u001b[0m \u001b[38;5;66;03m# _prep_ndarray ensures that values.ndim == 2 at this point\u001b[39;00m\n\u001b[1;32m    347\u001b[0m index, columns \u001b[38;5;241m=\u001b[39m _get_axes(\n\u001b[1;32m    348\u001b[0m     values\u001b[38;5;241m.\u001b[39mshape[\u001b[38;5;241m0\u001b[39m], values\u001b[38;5;241m.\u001b[39mshape[\u001b[38;5;241m1\u001b[39m], index\u001b[38;5;241m=\u001b[39mindex, columns\u001b[38;5;241m=\u001b[39mcolumns\n\u001b[1;32m    349\u001b[0m )\n\u001b[0;32m--> 351\u001b[0m \u001b[43m_check_values_indices_shape_match\u001b[49m\u001b[43m(\u001b[49m\u001b[43mvalues\u001b[49m\u001b[43m,\u001b[49m\u001b[43m \u001b[49m\u001b[43mindex\u001b[49m\u001b[43m,\u001b[49m\u001b[43m \u001b[49m\u001b[43mcolumns\u001b[49m\u001b[43m)\u001b[49m\n\u001b[1;32m    353\u001b[0m \u001b[38;5;28;01mif\u001b[39;00m typ \u001b[38;5;241m==\u001b[39m \u001b[38;5;124m\"\u001b[39m\u001b[38;5;124marray\u001b[39m\u001b[38;5;124m\"\u001b[39m:\n\u001b[1;32m    355\u001b[0m     \u001b[38;5;28;01mif\u001b[39;00m \u001b[38;5;28missubclass\u001b[39m(values\u001b[38;5;241m.\u001b[39mdtype\u001b[38;5;241m.\u001b[39mtype, \u001b[38;5;28mstr\u001b[39m):\n",
      "File \u001b[0;32m~/opt/anaconda3/lib/python3.9/site-packages/pandas/core/internals/construction.py:422\u001b[0m, in \u001b[0;36m_check_values_indices_shape_match\u001b[0;34m(values, index, columns)\u001b[0m\n\u001b[1;32m    420\u001b[0m passed \u001b[38;5;241m=\u001b[39m values\u001b[38;5;241m.\u001b[39mshape\n\u001b[1;32m    421\u001b[0m implied \u001b[38;5;241m=\u001b[39m (\u001b[38;5;28mlen\u001b[39m(index), \u001b[38;5;28mlen\u001b[39m(columns))\n\u001b[0;32m--> 422\u001b[0m \u001b[38;5;28;01mraise\u001b[39;00m \u001b[38;5;167;01mValueError\u001b[39;00m(\u001b[38;5;124mf\u001b[39m\u001b[38;5;124m\"\u001b[39m\u001b[38;5;124mShape of passed values is \u001b[39m\u001b[38;5;132;01m{\u001b[39;00mpassed\u001b[38;5;132;01m}\u001b[39;00m\u001b[38;5;124m, indices imply \u001b[39m\u001b[38;5;132;01m{\u001b[39;00mimplied\u001b[38;5;132;01m}\u001b[39;00m\u001b[38;5;124m\"\u001b[39m)\n",
      "\u001b[0;31mValueError\u001b[0m: Shape of passed values is (6, 1), indices imply (6, 15164)"
     ]
    }
   ],
   "source": [
    "# obten todas las palabras únicas del corpus\n",
    "vocabulario = count_vectorizer.get_feature_names_out()\n",
    "# muestra los vectores de características del documento\n",
    "pd.DataFrame(matriz_conteo, columns=vocabulario)"
   ]
  },
  {
   "cell_type": "markdown",
   "metadata": {
    "id": "XUSYpkbLwUIl"
   },
   "source": [
    "#Vocabulario (número de columnas de la matriz)"
   ]
  },
  {
   "cell_type": "code",
   "execution_count": 22,
   "metadata": {},
   "outputs": [],
   "source": [
    "mi_path = \"./diccionario.txt\"\n",
    "\n",
    "with open(mi_path, 'a+') as f:\n",
    "    for i in vocabulario:\n",
    "        f.write(i+',\\n')"
   ]
  },
  {
   "cell_type": "code",
   "execution_count": 10,
   "metadata": {
    "colab": {
     "base_uri": "https://localhost:8080/"
    },
    "id": "7yhoSszswSoP",
    "outputId": "8a05ee38-8ecb-40b7-c2ed-30185b1e7060"
   },
   "outputs": [
    {
     "name": "stdout",
     "output_type": "stream",
     "text": [
      "15164 ['000' '00033' '04' ... 'zip' 'zone' 'zounds']\n"
     ]
    }
   ],
   "source": [
    "print(len(vocabulario), vocabulario)"
   ]
  }
 ],
 "metadata": {
  "anaconda-cloud": {},
  "colab": {
   "provenance": []
  },
  "kernelspec": {
   "display_name": "Python 3 (ipykernel)",
   "language": "python",
   "name": "python3"
  },
  "language_info": {
   "codemirror_mode": {
    "name": "ipython",
    "version": 3
   },
   "file_extension": ".py",
   "mimetype": "text/x-python",
   "name": "python",
   "nbconvert_exporter": "python",
   "pygments_lexer": "ipython3",
   "version": "3.9.12"
  }
 },
 "nbformat": 4,
 "nbformat_minor": 1
}
